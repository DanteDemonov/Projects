{
 "cells": [
  {
   "cell_type": "code",
   "execution_count": 1,
   "metadata": {},
   "outputs": [],
   "source": [
    "import math as math\n",
    "import numpy as np\n",
    "import random\n",
    "import matplotlib.pyplot as plt\n",
    "import operator"
   ]
  },
  {
   "cell_type": "code",
   "execution_count": 2,
   "metadata": {},
   "outputs": [],
   "source": [
    "#Задаем матрицу переходных вероятностей\n",
    "\n",
    "def transition_matrix():\n",
    "    matrix = [[0.95, 0.05], [0.1, 0.9]]\n",
    "    return(matrix)\n",
    "\n",
    "\n",
    "#Матрица наблюдений\n",
    "\n",
    "def emission_matrix():\n",
    "    matrix = [[1/6, 1/6, 1/6, 1/6, 1/6, 1/6],[0.1, 0.1, 0.1, 0.1, 0.1, 0.5]]\n",
    "    return(matrix)\n",
    "\n",
    "\n",
    "#Матрица начального распределения\n",
    "\n",
    "def beginning_distribution_matrix():\n",
    "    matrix = [0.5, 0.5]\n",
    "    return(matrix)"
   ]
  },
  {
   "cell_type": "code",
   "execution_count": 3,
   "metadata": {},
   "outputs": [],
   "source": [
    "#Моделирование Скрытого марковского процесса\n",
    "\n",
    "def HMM(transition_matrix, emission_matrix, beginning_distribution_matrix, L):\n",
    "    state_path = []\n",
    "    path = []\n",
    "    state = random.randint(0,1)\n",
    "    \n",
    "    for i in range(L):\n",
    "        if state == 0:\n",
    "            path.append(random.randint(0, 5))\n",
    "            state_path.append(0)\n",
    "            state = np.random.choice([0, 1], p=[0.95, 0.05])\n",
    "        else:\n",
    "            path.append(np.random.choice(6, p=[0.1, 0.1, 0.1, 0.1, 0.1, 0.5]))\n",
    "            state_path.append(1)\n",
    "            state = np.random.choice([0, 1], p=[0.1, 0.9])\n",
    "    return(path, state_path)"
   ]
  },
  {
   "cell_type": "code",
   "execution_count": 4,
   "metadata": {},
   "outputs": [],
   "source": [
    "def Viterbi(rolls, L, transition_matrix, emission_matrix, beginning_distribution_matrix):\n",
    "    state_path = []\n",
    "    path_of_v_i_j = []\n",
    "    \n",
    "    for i in range(len(rolls)):\n",
    "        if i == 0:\n",
    "            max_v_i_j = float('-inf')\n",
    "            for j in range(len(beginning_distribution_matrix)):\n",
    "                v_i_j = math.log(emission_matrix[j][rolls[i]-1]) + math.log(beginning_distribution_matrix[j])\n",
    "                if v_i_j > max_v_i_j:\n",
    "                    max_v_i_j = v_i_j\n",
    "                    arg_max_j = j\n",
    "            path_of_v_i_j.append(max_v_i_j)\n",
    "            state_path.append(arg_max_j)\n",
    "        else:\n",
    "            max_v_i_j = float('-inf')\n",
    "            for j in range(len(beginning_distribution_matrix)):\n",
    "                v_i_j = math.log(emission_matrix[j][rolls[i]-1]) + (path_of_v_i_j[i-1]) + math.log(transition_matrix[arg_max_j][j])\n",
    "                if v_i_j > max_v_i_j:\n",
    "                    max_v_i_j = v_i_j\n",
    "                    arg_max_j = j\n",
    "            path_of_v_i_j.append(max_v_i_j)\n",
    "            state_path.append(arg_max_j)\n",
    "    return(state_path)"
   ]
  },
  {
   "cell_type": "code",
   "execution_count": 5,
   "metadata": {},
   "outputs": [],
   "source": [
    "#Forward algorithm\n",
    "\n",
    "def Forward(emission_matrix, transition_matrix, rolls, L, beginning_distribution_matrix):\n",
    "    Fk = [[0]*(L+1), [0]*(L+1)]\n",
    "    Fk[0][0] = Fk[1][0] =1\n",
    "    Fk[0][1] = emission_matrix[0][rolls[0]-1]*beginning_distribution_matrix[0]\n",
    "    Fk[1][1] = emission_matrix[1][rolls[0]-1]*beginning_distribution_matrix[1]\n",
    "    for i in range(2, L+1):\n",
    "        Fk[0][i] = emission_matrix[0][rolls[i-1]-1]*(Fk[0][i-1]*transition_matrix[0][0] + Fk[1][i-1]*transition_matrix[1][0])\n",
    "        Fk[1][i] = emission_matrix[1][rolls[i-1]-1]*(Fk[1][i-1]*transition_matrix[1][1] + Fk[0][i-1]*transition_matrix[0][1])\n",
    "    return(Fk)"
   ]
  },
  {
   "cell_type": "code",
   "execution_count": 6,
   "metadata": {},
   "outputs": [],
   "source": [
    "#Backward algorithm\n",
    "\n",
    "def Backward(emission_matrix, transition_matrix, rolls, L, beginning_distribution_matrix):\n",
    "    Bk = [[0]*(L+1), [0]*(L+1)]\n",
    "    Bk[0][-1] = Bk[1][-1] = 1\n",
    "    for i in range(L-1,-1,-1):\n",
    "        Bk[0][i] = (emission_matrix[0][rolls[i]-1]*Bk[0][i+1]*transition_matrix[0][0] + emission_matrix[1][rolls[i]-1]*Bk[1][i+1]*transition_matrix[0][1])\n",
    "        Bk[1][i] = (emission_matrix[1][rolls[i]-1]*Bk[1][i+1]*transition_matrix[1][1] + emission_matrix[0][rolls[i]-1]*Bk[0][i+1]*transition_matrix[1][0])\n",
    "    Bk[0][0] = Bk[0][0]*beginning_distribution_matrix[0]\n",
    "    Bk[1][0] = Bk[1][0]*beginning_distribution_matrix[1]\n",
    "    return(Bk)"
   ]
  },
  {
   "cell_type": "code",
   "execution_count": 7,
   "metadata": {},
   "outputs": [],
   "source": [
    "#Posterior decoding\n",
    "\n",
    "def Post_decoding(forward, backward, L):\n",
    "    posterior = [0]*(L+1)\n",
    "    for i in range(L+1):\n",
    "        posterior[i] = (forward[0][i]*backward[0][i])/(forward[0][-1] + forward[1][-1])\n",
    "    return(posterior)"
   ]
  },
  {
   "cell_type": "code",
   "execution_count": 8,
   "metadata": {},
   "outputs": [
    {
     "name": "stdout",
     "output_type": "stream",
     "text": [
      "rolls:    5143545505410230055531505354255545512350545511253154124555055045355555015444404015253223453203454442\n",
      "states:   1111111000001111111111111111111111100111111111111111111111011111111111111000000000000000000000111111\n",
      "viterbi:  0000000000000000000000000000000000000000000000000000000000000000000000000000000000000000000000000000\n"
     ]
    }
   ],
   "source": [
    "#Моделируем СММ и путь Витерби\n",
    "\n",
    "rolls, states = HMM(transition_matrix(), emission_matrix(), beginning_distribution_matrix(), 100)\n",
    "viterbi_path = Viterbi(rolls, 100, transition_matrix(), emission_matrix(), beginning_distribution_matrix())\n",
    "\n",
    "a, b, c = '', '', ''\n",
    "for i in range(100):\n",
    "    a += (str(rolls[i]))\n",
    "    b += (str(states[i]))\n",
    "    c += (str(viterbi_path[i]))\n",
    "    \n",
    "print('rolls:   ',a) \n",
    "print('states:  ',b,) \n",
    "print('viterbi: ',c)"
   ]
  },
  {
   "cell_type": "code",
   "execution_count": 9,
   "metadata": {},
   "outputs": [
    {
     "name": "stdout",
     "output_type": "stream",
     "text": [
      "Вероятность по прямому алгоритму:        4.225080167234868e-80\n",
      "Вероятность по алгоритму обратного хода: 4.379620159713083e-80\n"
     ]
    }
   ],
   "source": [
    "#Прямой и обратный алгоритмы\n",
    "\n",
    "Bk = Backward(emission_matrix(), transition_matrix(), rolls, 100, beginning_distribution_matrix())\n",
    "resb = Bk[0][0] + Bk[1][0]\n",
    "Fk = Forward(emission_matrix(),transition_matrix(), rolls, 100, beginning_distribution_matrix())\n",
    "resf = Fk[0][-1] + Fk[1][-1]\n",
    "print('Вероятность по прямому алгоритму:       ',resf)\n",
    "print('Вероятность по алгоритму обратного хода:',resb)"
   ]
  },
  {
   "cell_type": "code",
   "execution_count": 10,
   "metadata": {},
   "outputs": [
    {
     "data": {
      "image/png": "[encoded data removed]",
      "text/plain": [
       "<Figure size 1440x360 with 1 Axes>"
      ]
     },
     "metadata": {
      "needs_background": "light"
     },
     "output_type": "display_data"
    }
   ],
   "source": [
    "#Апостериарные вероятности\n",
    "\n",
    "decode = Post_decoding(Fk, Bk, 100)\n",
    "x = np.linspace(1, 101, 101)\n",
    "fig, ax = plt.subplots()\n",
    "ax.plot(x, decode, color=\"blue\", lw = 2.5)\n",
    "ax.set_title('График апостериорных вероятностей')\n",
    "fig = plt.gcf()\n",
    "fig.set_size_inches(20, 5)\n",
    "plt.show()"
   ]
  },
  {
   "cell_type": "code",
   "execution_count": null,
   "metadata": {},
   "outputs": [],
   "source": []
  },
  {
   "cell_type": "code",
   "execution_count": null,
   "metadata": {},
   "outputs": [],
   "source": []
  }
 ],
 "metadata": {
  "kernelspec": {
   "display_name": "Python 3",
   "language": "python",
   "name": "python3"
  },
  "language_info": {
   "codemirror_mode": {
    "name": "ipython",
    "version": 3
   },
   "file_extension": ".py",
   "mimetype": "text/x-python",
   "name": "python",
   "nbconvert_exporter": "python",
   "pygments_lexer": "ipython3",
   "version": "3.7.0"
  }
 },
 "nbformat": 4,
 "nbformat_minor": 2
}
